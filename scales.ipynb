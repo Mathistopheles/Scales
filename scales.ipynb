{
 "cells": [
  {
   "cell_type": "code",
   "execution_count": 96,
   "metadata": {},
   "outputs": [],
   "source": [
    "def compositions(n):\n",
    "    a = [[n]]\n",
    "    for i in range(1, int(n/2)+1):\n",
    "        b = compositions(i)\n",
    "        c = compositions(n-i)\n",
    "        for j in b:            \n",
    "            for k in c:\n",
    "                a.append(j + k)\n",
    "\n",
    "    a.sort(key = len)\n",
    "    return a"
   ]
  },
  {
   "cell_type": "code",
   "execution_count": 106,
   "metadata": {},
   "outputs": [],
   "source": [
    "def rot_eq(a, b):\n",
    "    if len(a) != len(b):\n",
    "        return False\n",
    "    for i in range(len(a)):\n",
    "        if a[i:] + a[:i] == b:\n",
    "            return True\n",
    "    return False        "
   ]
  },
  {
   "cell_type": "code",
   "execution_count": 119,
   "metadata": {},
   "outputs": [
    {
     "name": "stdout",
     "output_type": "stream",
     "text": [
      "x = [[5], [1, 4], [2, 3], [1, 1, 3], [1, 2, 2], [2, 1, 2], [1, 1, 3], [1, 1, 1, 2], [1, 2, 1, 1], [1, 1, 1, 2], [2, 1, 1, 1], [1, 1, 1, 2], [1, 1, 1, 1, 1], [1, 1, 1, 1, 1], [1, 1, 1, 1, 1]]\n"
     ]
    },
    {
     "data": {
      "text/plain": [
       "True"
      ]
     },
     "execution_count": 119,
     "metadata": {},
     "output_type": "execute_result"
    }
   ],
   "source": [
    "x = compositions(5)\n",
    "m = len(x[-1])+1\n",
    "y = [[a for a in x if len(a) == n] for n in range(1, m)]\n",
    "print(f\"x = {x}\")\n",
    "\"\"\"\n",
    "print(f\"y = {y}\")\n",
    "\"\"\"\n",
    "rot_eq(x[7], x[11])"
   ]
  },
  {
   "cell_type": "code",
   "execution_count": 138,
   "metadata": {},
   "outputs": [],
   "source": [
    "def remove_modes(comps):\n",
    "    max_len = len(comps[-1])\n",
    "    comp_classes = [[a for a in comps if len(a) == i] for i in range(1, max_len+1)]\n",
    "    print(f\"comp_classes = {comp_classes}\")\n",
    "    for sublist in comp_classes:\n",
    "        n = len(sublist)\n",
    "        print(f\"sublist = {sublist}\")\n",
    "        i = 0; j = 0\n",
    "        while i < \n",
    "        if n > 1:\n",
    "            for i in range(n):\n",
    "                for j in range(i+1, n):\n",
    "                    if rot_eq(sublist[i], sublist[j])):\n",
    "                        del sublist[j]\n",
    "                \"\"\"\n",
    "                print(f\"x = {x}, y = {y}\")\n",
    "                if rot_eq(x, y):\n",
    "                    comps.remove(y)\n",
    "                \"\"\"\n",
    "    return comps"
   ]
  },
  {
   "cell_type": "code",
   "execution_count": 139,
   "metadata": {},
   "outputs": [
    {
     "name": "stdout",
     "output_type": "stream",
     "text": [
      "[[5], [1, 4], [2, 3], [1, 1, 3], [1, 2, 2], [2, 1, 2], [1, 1, 3], [1, 1, 1, 2], [1, 2, 1, 1], [1, 1, 1, 2], [2, 1, 1, 1], [1, 1, 1, 2], [1, 1, 1, 1, 1], [1, 1, 1, 1, 1], [1, 1, 1, 1, 1]]\n",
      "comp_classe = [[[5]], [[1, 4], [2, 3]], [[1, 1, 3], [1, 2, 2], [2, 1, 2], [1, 1, 3]], [[1, 1, 1, 2], [1, 2, 1, 1], [1, 1, 1, 2], [2, 1, 1, 1], [1, 1, 1, 2]], [[1, 1, 1, 1, 1], [1, 1, 1, 1, 1], [1, 1, 1, 1, 1]]]\n",
      "sublist = [[5]]\n",
      "sublist = [[1, 4], [2, 3]]\n",
      "x = 1, y = 4\n",
      "x = 2, y = 3\n",
      "sublist = [[1, 1, 3], [1, 2, 2], [2, 1, 2], [1, 1, 3]]\n"
     ]
    },
    {
     "ename": "ValueError",
     "evalue": "too many values to unpack (expected 2)",
     "output_type": "error",
     "traceback": [
      "\u001b[1;31m---------------------------------------------------------------------------\u001b[0m",
      "\u001b[1;31mValueError\u001b[0m                                Traceback (most recent call last)",
      "\u001b[1;32m<ipython-input-139-55ba18e110e5>\u001b[0m in \u001b[0;36m<module>\u001b[1;34m\u001b[0m\n\u001b[0;32m      1\u001b[0m \u001b[0mx\u001b[0m \u001b[1;33m=\u001b[0m \u001b[0mcompositions\u001b[0m\u001b[1;33m(\u001b[0m\u001b[1;36m5\u001b[0m\u001b[1;33m)\u001b[0m\u001b[1;33m\u001b[0m\u001b[1;33m\u001b[0m\u001b[0m\n\u001b[0;32m      2\u001b[0m \u001b[0mprint\u001b[0m\u001b[1;33m(\u001b[0m\u001b[0mx\u001b[0m\u001b[1;33m)\u001b[0m\u001b[1;33m\u001b[0m\u001b[1;33m\u001b[0m\u001b[0m\n\u001b[1;32m----> 3\u001b[1;33m \u001b[0mremove_modes\u001b[0m\u001b[1;33m(\u001b[0m\u001b[0mx\u001b[0m\u001b[1;33m)\u001b[0m\u001b[1;33m\u001b[0m\u001b[1;33m\u001b[0m\u001b[0m\n\u001b[0m",
      "\u001b[1;32m<ipython-input-138-b3400a028c98>\u001b[0m in \u001b[0;36mremove_modes\u001b[1;34m(comps)\u001b[0m\n\u001b[0;32m      6\u001b[0m         \u001b[0mprint\u001b[0m\u001b[1;33m(\u001b[0m\u001b[1;34mf\"sublist = {sublist}\"\u001b[0m\u001b[1;33m)\u001b[0m\u001b[1;33m\u001b[0m\u001b[1;33m\u001b[0m\u001b[0m\n\u001b[0;32m      7\u001b[0m         \u001b[1;32mif\u001b[0m \u001b[0mlen\u001b[0m\u001b[1;33m(\u001b[0m\u001b[0msublist\u001b[0m\u001b[1;33m)\u001b[0m \u001b[1;33m>\u001b[0m \u001b[1;36m1\u001b[0m\u001b[1;33m:\u001b[0m\u001b[1;33m\u001b[0m\u001b[1;33m\u001b[0m\u001b[0m\n\u001b[1;32m----> 8\u001b[1;33m             \u001b[1;32mfor\u001b[0m \u001b[0mx\u001b[0m\u001b[1;33m,\u001b[0m \u001b[0my\u001b[0m \u001b[1;32min\u001b[0m \u001b[0msublist\u001b[0m\u001b[1;33m:\u001b[0m\u001b[1;33m\u001b[0m\u001b[1;33m\u001b[0m\u001b[0m\n\u001b[0m\u001b[0;32m      9\u001b[0m                 \u001b[0mprint\u001b[0m\u001b[1;33m(\u001b[0m\u001b[1;34mf\"x = {x}, y = {y}\"\u001b[0m\u001b[1;33m)\u001b[0m\u001b[1;33m\u001b[0m\u001b[1;33m\u001b[0m\u001b[0m\n\u001b[0;32m     10\u001b[0m                 \"\"\"\n",
      "\u001b[1;31mValueError\u001b[0m: too many values to unpack (expected 2)"
     ]
    }
   ],
   "source": [
    "x = compositions(5)\n",
    "print(x)\n",
    "remove_modes(x)"
   ]
  },
  {
   "cell_type": "code",
   "execution_count": 99,
   "metadata": {},
   "outputs": [
    {
     "data": {
      "text/plain": [
       "12"
      ]
     },
     "execution_count": 99,
     "metadata": {},
     "output_type": "execute_result"
    }
   ],
   "source": [
    "len(test_comp[-1])"
   ]
  },
  {
   "cell_type": "code",
   "execution_count": 42,
   "metadata": {},
   "outputs": [
    {
     "name": "stdout",
     "output_type": "stream",
     "text": [
      "1\n"
     ]
    }
   ],
   "source": [
    "for i in range(1, int(3/2)+1):\n",
    "    print(i)"
   ]
  },
  {
   "cell_type": "code",
   "execution_count": 1,
   "metadata": {},
   "outputs": [
    {
     "name": "stdout",
     "output_type": "stream",
     "text": [
      "2\n"
     ]
    }
   ],
   "source": [
    "print(12%5)"
   ]
  }
 ],
 "metadata": {
  "kernelspec": {
   "display_name": "Python 3",
   "language": "python",
   "name": "python3"
  },
  "language_info": {
   "codemirror_mode": {
    "name": "ipython",
    "version": 3
   },
   "file_extension": ".py",
   "mimetype": "text/x-python",
   "name": "python",
   "nbconvert_exporter": "python",
   "pygments_lexer": "ipython3",
   "version": "3.8.6"
  },
  "orig_nbformat": 4,
  "vscode": {
   "interpreter": {
    "hash": "9a5ca2ce4f336c9a78f93a6d58880c2d10c68ffbb1b22c4e071c309701f57a26"
   }
  }
 },
 "nbformat": 4,
 "nbformat_minor": 2
}
